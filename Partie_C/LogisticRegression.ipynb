{
  "nbformat": 4,
  "nbformat_minor": 0,
  "metadata": {
    "colab": {
      "provenance": []
    },
    "kernelspec": {
      "name": "python3",
      "display_name": "Python 3"
    },
    "language_info": {
      "name": "python"
    }
  },
  "cells": [
    {
      "cell_type": "code",
      "execution_count": null,
      "metadata": {
        "id": "ET8KcbpsjBx6"
      },
      "outputs": [],
      "source": [
        "def build_model():\n",
        "    import pandas as pd\n",
        "    from sklearn.linear_model import LogisticRegression\n",
        "    import joblib\n",
        "    df = pd.read_csv('logic_prediction.csv')\n",
        "    X = df[['vibration', 'avg_speed', 'age']]\n",
        "    y = df['did_break']\n",
        "    model = LogisticRegression()\n",
        "    model.fit(X, y)\n",
        "    joblib.dump(model, \"Logistic.joblib\")\n",
        "    \n",
        "build_model()"
      ]
    },
    {
      "cell_type": "code",
      "source": [
        "import joblib\n",
        "\n",
        "# Chargement du modèle de regression et récupération des coefficient\n",
        "model = joblib.load(\"Logistic.joblib\")\n",
        "\n",
        "coeff = [coef for coef in model.coef_]\n",
        "intercept = model.intercept_\n",
        "\n",
        "# On génère la chaîne de caractère contenant le code C et on l'ouvre\n",
        "c_code = \"\"\"\n",
        "#include <stdio.h>\n",
        "\n",
        "float exp_approx(float x, int n_term) {{\n",
        "    float result = 1.0;\n",
        "    float term = 1.0;\n",
        "    int i;\n",
        "    for (i = 1; i <= n_term; i++) {{\n",
        "        term *= x / i;\n",
        "        result += term;\n",
        "    }}\n",
        "    return result;\n",
        "}}\n",
        "\n",
        "float sigmoid(float x) {{\n",
        "    float exponent = -x;\n",
        "    float denominator = 1.0 + exp_approx(exponent, 10);\n",
        "    return 1.0 / denominator;\n",
        "}}\n",
        "\n",
        "float logistic_regression(float* features, int n_parameter) {{\n",
        "    float thetas[] = {{{', '.join(str(coeff) for coef in coeff[0].tolist())}}};\n",
        "    float pred = {intercept[0]};\n",
        "    for (int i = 0; i < n_parameter - 1; i++) {{\n",
        "        z += features[i] * thetas[i+1];\n",
        "    }}\n",
        "    return sigmoid(z);\n",
        "}}\n",
        "\n",
        "int main() {{\n",
        "    float features[] = {{1.5, 30.0, 120}}; // Exemple de données d'entrée\n",
        "    int n_features = sizeof(features)/sizeof(float);\n",
        "    float pred = logistic_regression(features, n_features);\n",
        "    printf(\"Prediction : %f\\\\n\", pred);\n",
        "    return 0;\n",
        "}}\n",
        "\"\"\"\n",
        "\n",
        "with open(\"modeleLogistic.c\", \"w\") as f:\n",
        "    f.write(c_code)\n",
        "\n",
        "# Compilation du code C\n",
        "compilation_command = \"gcc modeleLogistic.c -o modeleLogistic\"\n",
        "print(\"Commande de compilation : {}\".format(compilation_command))"
      ],
      "metadata": {
        "colab": {
          "base_uri": "https://localhost:8080/"
        },
        "id": "e63X-HxJ1e3E",
        "outputId": "61bafc81-1194-492a-d78f-08278966abc9"
      },
      "execution_count": null,
      "outputs": [
        {
          "output_type": "stream",
          "name": "stdout",
          "text": [
            "Commande de compilation : gcc modeleLogistic.c -o modeleLogistic\n"
          ]
        }
      ]
    }
  ]
}