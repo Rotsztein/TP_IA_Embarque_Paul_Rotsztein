{
  "nbformat": 4,
  "nbformat_minor": 0,
  "metadata": {
    "colab": {
      "provenance": []
    },
    "kernelspec": {
      "name": "python3",
      "display_name": "Python 3"
    },
    "language_info": {
      "name": "python"
    }
  },
  "cells": [
    {
      "cell_type": "code",
      "source": [
        "def build_model():\n",
        "    import pandas as pd \n",
        "    from sklearn.linear_model import LinearRegression\n",
        "    import joblib\n",
        "    df = pd.read_csv('houses.csv')\n",
        "    X = df[['size', 'nb_rooms', 'garden']]\n",
        "    y = df['price']\n",
        "    model = LinearRegression()\n",
        "    model.fit(X, y)\n",
        "    joblib.dump(model, \"regression.joblib\")\n",
        "    \n",
        "build_model()"
      ],
      "metadata": {
        "id": "NE97lvNSk0tR"
      },
      "execution_count": null,
      "outputs": []
    },
    {
      "cell_type": "code",
      "execution_count": null,
      "metadata": {
        "colab": {
          "base_uri": "https://localhost:8080/"
        },
        "id": "5XxFJ8npzxes",
        "outputId": "f45a83d5-1469-495d-da82-c7d5f0db006f"
      },
      "outputs": [
        {
          "output_type": "stream",
          "name": "stdout",
          "text": [
            "Commande de compilation : gcc modele.c -o modele\n"
          ]
        }
      ],
      "source": [
        "import joblib\n",
        "import numpy as np\n",
        "import pandas as pd\n",
        "from sklearn.linear_model import LinearRegression\n",
        "\n",
        "# Chargement du modèle de regression et récupération des coefficient\n",
        "model = joblib.load(\"regression.joblib\")\n",
        "\n",
        "coef = model.coef_\n",
        "intercept = model.intercept_\n",
        "\n",
        "# On génère la chaîne de caractère contenant le code C et on l'ouvre\n",
        "c_code = \"\"\"\n",
        "#include <stdio.h>\n",
        "\n",
        "float prediction(float *features, int n_features) {{\n",
        "    float coef[{n_coef}] = {{{coef_str}}};\n",
        "    float intercept = {intercept};\n",
        "\n",
        "    float result = 0.0;\n",
        "    for (int i=0; i<n_features; i++) {{\n",
        "        result += coef[i] * features[i];\n",
        "    }}\n",
        "    result += intercept;\n",
        "    return result;\n",
        "}}\n",
        "\n",
        "int main() {{\n",
        "    float features[] = {{1.0, 2.0, 3.0}}; // Exemple de données d'entrée\n",
        "    int n_features = sizeof(features)/sizeof(float);\n",
        "    float pred = prediction(features, n_features);\n",
        "    printf(\"Prediction : %f\\\\n\", pred);\n",
        "    return 0;\n",
        "}}\n",
        "\"\"\".format(n_coef=len(coef), coef_str=\", \".join(str(c) for c in coef), intercept=intercept)\n",
        "\n",
        "with open(\"modele.c\", \"w\") as f:\n",
        "    f.write(c_code)\n",
        "\n",
        "# Compilation du code C\n",
        "compilation_command = \"gcc modele.c -o modele\"\n",
        "print(\"Commande de compilation : {}\".format(compilation_command))"
      ]
    },
    {
      "cell_type": "code",
      "source": [
        "from sklearn.model_selection import train_test_split\n",
        "# On charge ici les donnée depuis le fichier csv\n",
        "data = pd.read_csv('houses.csv')\n",
        "train_data, test_data = train_test_split(data, test_size=0.2, random_state=42)\n",
        "\n",
        "data['orientation'].replace({'Nord': 1, 'Sud': 2, 'Est': 3, 'Ouest': 4}, inplace=True)\n",
        "\n",
        "X_train = data[['size', 'nb_rooms', 'garden', 'orientation']]\n",
        "y_train = data['price']\n",
        "\n",
        "model = LinearRegression()\n",
        "model.fit(X_train, y_train)\n",
        "\n",
        "#Modèle entrainé\n",
        "joblib.dump(model, 'trained_model.joblib')"
      ],
      "metadata": {
        "colab": {
          "base_uri": "https://localhost:8080/"
        },
        "id": "AyPW1deq2uEn",
        "outputId": "0c4c223a-6800-4c76-b247-a2a010068aa3"
      },
      "execution_count": null,
      "outputs": [
        {
          "output_type": "execute_result",
          "data": {
            "text/plain": [
              "['trained_model.joblib']"
            ]
          },
          "metadata": {},
          "execution_count": 10
        }
      ]
    }
  ]
}